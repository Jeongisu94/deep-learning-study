{
 "cells": [
  {
   "cell_type": "code",
   "execution_count": null,
   "metadata": {},
   "outputs": [],
   "source": [
    "import numpy as np"
   ]
  },
  {
   "cell_type": "code",
   "execution_count": null,
   "metadata": {},
   "outputs": [],
   "source": [
    "class Dropout:\n",
    "    def __init__(self, dropout_ratio=0.5):\n",
    "        self.dropout_ratio = dropout_ratio\n",
    "        self.mask = None\n",
    "\n",
    "    def forward(self, x, train_flg=True):\n",
    "        # 순전파마다 self.mask에 삭제할 뉴런을 False로 표시한다.\n",
    "        # self.mask는 x와 같은 shape의 배열을 무작위 값으로 생성하고, 그 값이 dropout_ratio보다 큰 원소만 True로 설정한다.\n",
    "\n",
    "        if train_flg:\n",
    "            self.mask = np.random.rand(*x.shape) > self.dropout_ratio\n",
    "            return x * self.mask\n",
    "\n",
    "        else:\n",
    "            \n",
    "            return x * (1.0 - self.dropout_ratio)\n",
    "        \n",
    "\n",
    "    def backward(self, dout):    \n",
    "        # 역전파의 동작은 렐루와 같다. \n",
    "        # 순전파 때의 신호를 통과시킨 뉴런은 역전파 때도 통과시키고,\n",
    "        # 순전파 때 신호가 통과시키지 않은 뉴런은 역전파 때도 통과시키지 않는다.\n",
    "        \n",
    "        return dout * self.mask"
   ]
  }
 ],
 "metadata": {
  "kernelspec": {
   "display_name": "tf",
   "language": "python",
   "name": "tensorflow"
  },
  "language_info": {
   "codemirror_mode": {
    "name": "ipython",
    "version": 3
   },
   "file_extension": ".py",
   "mimetype": "text/x-python",
   "name": "python",
   "nbconvert_exporter": "python",
   "pygments_lexer": "ipython3",
   "version": "3.6.8"
  }
 },
 "nbformat": 4,
 "nbformat_minor": 2
}
