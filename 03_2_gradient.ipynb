{
 "cells": [
  {
   "cell_type": "code",
   "execution_count": 1,
   "metadata": {},
   "outputs": [],
   "source": [
    "import numpy as np\n",
    "\n",
    "# 기울기(gradient) : 모든 변수의 편미분을 벡터로 정리한 것\n",
    "# f는 함수, x는 함수에 전달할 인수 (***넘파이 배열***)"
   ]
  },
  {
   "cell_type": "code",
   "execution_count": 2,
   "metadata": {},
   "outputs": [],
   "source": [
    "# 기울기 구현\n",
    "def gradient(f, x):\n",
    "    h = 1e-4 # 0.0001\n",
    "\n",
    "    # 기울기를 저장할 배열, x와 같은 shape로 0으로 초기화\n",
    "    gradient_arr = np.zeros_like(x)\n",
    "\n",
    "    for i in range(x.size):\n",
    "        tmp = x[i]\n",
    "\n",
    "        # f(x+h) 구하기\n",
    "        x[i] = tmp + h\n",
    "        fxh1 = f(x)\n",
    "\n",
    "        # f(x-h) 구하기\n",
    "        x[i] = tmp - h\n",
    "        fxh2 = f(x)\n",
    "\n",
    "        # 배열에 미분값 저장\n",
    "        gradient_arr[i] = (fxh1 - fxh2) / (2*h)\n",
    "\n",
    "        x[i] = tmp # 원 상태로 복구\n",
    "\n",
    "    return gradient_arr"
   ]
  },
  {
   "cell_type": "code",
   "execution_count": 3,
   "metadata": {},
   "outputs": [],
   "source": [
    "def function(x):\n",
    "    # f(x0, x1) = x0^2 + x1^2\n",
    "\n",
    "    return x[0]**2 + x[1]**2"
   ]
  },
  {
   "cell_type": "code",
   "execution_count": 4,
   "metadata": {},
   "outputs": [],
   "source": [
    "def f(x):\n",
    "    # y = 3x + 4\n",
    "    # 임의의 x에서 기울기는 항상 3\n",
    "\n",
    "    return 3.0*x + 4"
   ]
  },
  {
   "cell_type": "code",
   "execution_count": 5,
   "metadata": {},
   "outputs": [
    {
     "name": "stdout",
     "output_type": "stream",
     "text": [
      "f(x0, x1) = x0^2 + x1^2에서 (x0, x1) : (0.0, 5.0)일 때의 기울기 :  [ 0. 10.]\n",
      "f(x0, x1) = x0^2 + x1^2에서 (x0, x1) : (3.0, 4.0)일 때의 기울기 : [6. 8.]\n",
      "f(x0, x1) = x0^2 + x1^2에서 (x0, x1) : (-2.0, 2.0)일 때의 기울기 : [-4.  4.]\n",
      "y = 3x + 4에서 x = 2 에서의 기울기 : [3.]\n",
      "y = 3x + 4에서 x = 49 에서의 기울기 : [3.]\n",
      "y = 3x + 4에서 x = -21 에서의 기울기 : [3.]\n"
     ]
    }
   ],
   "source": [
    "print(\"f(x0, x1) = x0^2 + x1^2에서 (x0, x1) : (0.0, 5.0)일 때의 기울기 : \", gradient(function, np.array([0.0, 5.0])))\n",
    "print(\"f(x0, x1) = x0^2 + x1^2에서 (x0, x1) : (3.0, 4.0)일 때의 기울기 :\", gradient(function, np.array([3.0, 4.0])))\n",
    "print(\"f(x0, x1) = x0^2 + x1^2에서 (x0, x1) : (-2.0, 2.0)일 때의 기울기 :\", gradient(function, np.array([-2.0, 2.0])))\n",
    "print(\"y = 3x + 4에서 x = 2 에서의 기울기 :\", gradient(f, np.array([2.0])))\n",
    "print(\"y = 3x + 4에서 x = 49 에서의 기울기 :\", gradient(f, np.array([49.0])))\n",
    "print(\"y = 3x + 4에서 x = -21 에서의 기울기 :\", gradient(f, np.array([-21.0])))"
   ]
  },
  {
   "cell_type": "code",
   "execution_count": null,
   "metadata": {},
   "outputs": [],
   "source": []
  }
 ],
 "metadata": {
  "kernelspec": {
   "display_name": "tf",
   "language": "python",
   "name": "tensorflow"
  },
  "language_info": {
   "codemirror_mode": {
    "name": "ipython",
    "version": 3
   },
   "file_extension": ".py",
   "mimetype": "text/x-python",
   "name": "python",
   "nbconvert_exporter": "python",
   "pygments_lexer": "ipython3",
   "version": "3.6.8"
  }
 },
 "nbformat": 4,
 "nbformat_minor": 2
}
