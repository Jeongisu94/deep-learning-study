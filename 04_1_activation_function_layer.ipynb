{
 "cells": [
  {
   "cell_type": "code",
   "execution_count": 1,
   "metadata": {},
   "outputs": [],
   "source": [
    "import numpy as np\n",
    "\n",
    "# 자세한 설명은 junsoofeb.github.io\n",
    "# forward()와 backward()는 np.array를 인수로 받는다고 가정했다."
   ]
  },
  {
   "cell_type": "code",
   "execution_count": 2,
   "metadata": {},
   "outputs": [],
   "source": [
    "# mask는 True/False로 구성된 넘파이 배열이다.\n",
    "# 순전파의 입력x가 0보다 크면 False, 0이하면 True이다.\n",
    "\n",
    "class ReLU:\n",
    "    def __init__(self):\n",
    "        self.mask = None\n",
    "\n",
    "    def forward(self, x):\n",
    "        self.mask = (x <= 0)\n",
    "        out = x.copy()\n",
    "        out[self.mask] = 0\n",
    "\n",
    "        return out\n",
    "\n",
    "    def backward(self, dout):\n",
    "        dout[self.mask] = 0\n",
    "        dx = dout\n",
    "\n",
    "        return dx"
   ]
  },
  {
   "cell_type": "code",
   "execution_count": 3,
   "metadata": {},
   "outputs": [],
   "source": [
    "# sigmoid 역전파의 최종 출력은 dy/dx = dL/dyㆍy^2ㆍe^-x가 나온다. L은 역전파의 초기값이다.\n",
    "# 순전파의 입력x와 출력y 만으로 계산 가능함을 알 수 있다.\n",
    "# y = 1 / 1 + e^-x 이므로 y를 이 값으로 대입하면, 출력y만으로 표현할 수 있다. dy/dx = dL/dyㆍy(1-y)\n",
    "\n",
    "class sigmoid:\n",
    "    def __init__(self):\n",
    "        self.out = None\n",
    "\n",
    "    def forward(self, x):\n",
    "        out = 1 / (1 + np.exp(-x))\n",
    "        self.out = out\n",
    "\n",
    "        return out\n",
    "\n",
    "    def backward(self, dout): # dy/dx = dL/dyㆍy(1-y)\n",
    "        dx = dout * (1.0 - self.out) * self.out\n",
    "\n",
    "        return dx"
   ]
  },
  {
   "cell_type": "code",
   "execution_count": 4,
   "metadata": {},
   "outputs": [],
   "source": [
    "relu = ReLU()\n",
    "sig = sigmoid()"
   ]
  },
  {
   "cell_type": "code",
   "execution_count": 5,
   "metadata": {},
   "outputs": [
    {
     "name": "stdout",
     "output_type": "stream",
     "text": [
      "1과 -0.5가 입력일 때, 각각에 대한 ReLU 함수의 순전파 :\n",
      " [[1.]\n",
      " [0.]]\n",
      "\n",
      "\n",
      "-2와 3이 상류에서 들어올 때, 각각에 대한 ReLU 함수의 역전파 : \n",
      " [[-2.]\n",
      " [ 0.]]\n"
     ]
    }
   ],
   "source": [
    "forward1 = relu.forward(np.array([[1.0], [-0.5]]))\n",
    "backward1 = relu.backward(np.array([[-2.0], [3.0]]))\n",
    "\n",
    "\n",
    "print(\"1과 -0.5가 입력일 때, 각각에 대한 ReLU 함수의 순전파 :\\n\", forward1)\n",
    "# 입력값이 0보다 크면 그대로 출력하고, 입력값이 0 이하면 출력은 0\n",
    "\n",
    "print(\"\\n\")\n",
    "\n",
    "print(\"-2와 3이 상류에서 들어올 때, 각각에 대한 ReLU 함수의 역전파 : \\n\", backward1)\n",
    "# 입력이 0보다 컸던 곳으로는 상류의 값을 그대로 전파하고, 입력이 0이하였던 곳은 0을 전파한다."
   ]
  },
  {
   "cell_type": "code",
   "execution_count": 6,
   "metadata": {},
   "outputs": [
    {
     "name": "stdout",
     "output_type": "stream",
     "text": [
      "1과 -0.5가 입력일 때, 각각에 대한 sigmoid 함수의 순전파 :\n",
      " [[0.88079708]\n",
      " [0.37754067]]\n",
      "\n",
      "\n",
      "-2와 3이 상류에서 들어올 때, 각각에 대한 sigmoid 함수의 역전파 : \n",
      " [[-0.20998717]\n",
      " [ 0.70501114]]\n"
     ]
    }
   ],
   "source": [
    "forward2 = sig.forward(np.array([[2.0], [-0.5]]))\n",
    "backward2 = sig.backward(np.array([[-2.0], [3.0]]))\n",
    "\n",
    "\n",
    "print(\"1과 -0.5가 입력일 때, 각각에 대한 sigmoid 함수의 순전파 :\\n\", forward2)\n",
    "\n",
    "print(\"\\n\")\n",
    "\n",
    "print(\"-2와 3이 상류에서 들어올 때, 각각에 대한 sigmoid 함수의 역전파 : \\n\", backward2)"
   ]
  }
 ],
 "metadata": {
  "kernelspec": {
   "display_name": "tf",
   "language": "python",
   "name": "tensorflow"
  },
  "language_info": {
   "codemirror_mode": {
    "name": "ipython",
    "version": 3
   },
   "file_extension": ".py",
   "mimetype": "text/x-python",
   "name": "python",
   "nbconvert_exporter": "python",
   "pygments_lexer": "ipython3",
   "version": "3.6.8"
  }
 },
 "nbformat": 4,
 "nbformat_minor": 2
}
