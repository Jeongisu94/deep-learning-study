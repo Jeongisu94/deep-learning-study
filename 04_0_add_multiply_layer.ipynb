{
 "cells": [
  {
   "cell_type": "code",
   "execution_count": 1,
   "metadata": {},
   "outputs": [],
   "source": [
    "# 자세한 설명은 junsoofeb.github.io\n",
    "\n",
    "# 신경망의 덧셈 계층 구현\n",
    "\n",
    "class Add_layer:  \n",
    "\n",
    "    def __init__(self):  \n",
    "        pass\n",
    "\n",
    "    def forward(self, x, y):\n",
    "        out = x+y\n",
    "\n",
    "        return out\n",
    "\n",
    "    def backward(self, dout):\n",
    "        # dout은 상류에서 넘어온 미분값\n",
    "        # 덧셈 계층은 미분값이 1\n",
    "        dx = dout * 1\n",
    "        dy = dout * 1\n",
    "\n",
    "        return (dx, dy)"
   ]
  },
  {
   "cell_type": "code",
   "execution_count": 2,
   "metadata": {},
   "outputs": [],
   "source": [
    "# 신경망의 곱셈 계층 구현\n",
    "\n",
    "class Mul_layer:  \n",
    "\n",
    "    def __init__(self):  \n",
    "        self.x = None\n",
    "        self.y = None\n",
    "\n",
    "    def forward(self, x, y):\n",
    "        self.x = x\n",
    "        self.y = y\n",
    "        out = x*y\n",
    "\n",
    "        return out\n",
    "\n",
    "    def backward(self, dout):\n",
    "        # dout은 상류에서 넘어온 미분값  \n",
    "        # 곱셈 계층에서는 x와 y 바꿔 곱한다.  \n",
    "        dx = dout * self.y\n",
    "        dy = dout * self.x\n",
    "\n",
    "        return (dx, dy)"
   ]
  },
  {
   "cell_type": "code",
   "execution_count": 3,
   "metadata": {},
   "outputs": [],
   "source": [
    "add = Add_layer()\n",
    "mul = Mul_layer()\n",
    "\n",
    "a = 15\n",
    "b = 3"
   ]
  },
  {
   "cell_type": "code",
   "execution_count": 4,
   "metadata": {},
   "outputs": [
    {
     "name": "stdout",
     "output_type": "stream",
     "text": [
      "a + b의 순전파 값 : 18\n",
      "a X b의 순전파 값 : 45\n"
     ]
    }
   ],
   "source": [
    "result1 = add.forward(15,3)\n",
    "print(\"a + b의 순전파 값 :\", result1)\n",
    "\n",
    "result2 = mul.forward(15,3)\n",
    "print(\"a X b의 순전파 값 :\", result2)\n",
    "\n"
   ]
  },
  {
   "cell_type": "code",
   "execution_count": 5,
   "metadata": {},
   "outputs": [
    {
     "name": "stdout",
     "output_type": "stream",
     "text": [
      "상류에서 1.5가 흘러왔을 때, 덧셈 노드에서 (a방향의 역전파 값, b방향의 역전파 값) : (1.5, 1.5)\n",
      "상류에서 1.5가 흘러왔을 때, 곱셈 노드에서 (a방향의 역전파 값, b방향의 역전파 값) : (4.5, 22.5)\n"
     ]
    }
   ],
   "source": [
    "back1 = add.backward(1.5)\n",
    "print(\"상류에서 1.5가 흘러왔을 때, 덧셈 노드에서 (a방향의 역전파 값, b방향의 역전파 값) :\", back1)\n",
    "# a, b방향 둘 다 1.5가 그대로 전파된다.\n",
    "\n",
    "back2 = mul.backward(1.5)\n",
    "print(\"상류에서 1.5가 흘러왔을 때, 곱셈 노드에서 (a방향의 역전파 값, b방향의 역전파 값) :\", back2)\n",
    "# a방향으로는 1.5 * b 가 전파되고, b방향으로는 1.5 * a 가 전파된다."
   ]
  }
 ],
 "metadata": {
  "kernelspec": {
   "display_name": "tf",
   "language": "python",
   "name": "tensorflow"
  },
  "language_info": {
   "codemirror_mode": {
    "name": "ipython",
    "version": 3
   },
   "file_extension": ".py",
   "mimetype": "text/x-python",
   "name": "python",
   "nbconvert_exporter": "python",
   "pygments_lexer": "ipython3",
   "version": "3.6.8"
  }
 },
 "nbformat": 4,
 "nbformat_minor": 2
}
