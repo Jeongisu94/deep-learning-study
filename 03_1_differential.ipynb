{
 "cells": [
  {
   "cell_type": "code",
   "execution_count": 1,
   "metadata": {},
   "outputs": [],
   "source": [
    "import numpy as np\n",
    "\n",
    "# 미분 : 한 순간의 변화량을 표시한 것\n",
    "# x에 대한 y의 미분 : x의 작은 변화가 y를 얼마나 변화시키느냐는 의미\n",
    "# 수치미분(numerical differential) : 아주 작은 차분으로 미분을 구하는 것\n",
    "# f : 함수, x : 함수에 넘길 인수"
   ]
  },
  {
   "cell_type": "code",
   "execution_count": 2,
   "metadata": {},
   "outputs": [],
   "source": [
    "# 수치 미분 구현\n",
    "def numerical_diff(f, x):\n",
    "    h = 1e-4 # 0.0001 정도의 값을 사용하면 좋은 결과를 얻는다고 알려짐\n",
    "\n",
    "    # 전방 차분 (f(x+h) - f(x)) / (h) 의 오차를 줄이기 위해서 중앙 차분을 사용\n",
    "    return (f(x+h) - f(x-h)) / (2*h)"
   ]
  },
  {
   "cell_type": "code",
   "execution_count": 3,
   "metadata": {},
   "outputs": [],
   "source": [
    "def function_1(x):\n",
    "    # y = 0.03x^2 + 0.5x\n",
    "    \n",
    "    return 0.03*x**2 + 0.5+x"
   ]
  },
  {
   "cell_type": "code",
   "execution_count": 4,
   "metadata": {},
   "outputs": [],
   "source": [
    "def function_2(x):\n",
    "    # f(x0, x1) = x0^2 + x1^2\n",
    "    \n",
    "    return x[0]**2 + x[1]**2  # return np.sum(x**2) 와 동일\n",
    "\n",
    "#편미분 : 변수가 여럿인 함수에 대한 미분\n",
    "#목표 변수를 정하고 다른 변수는 값을 고정(상수 취급)한 후, 수치미분한다."
   ]
  },
  {
   "cell_type": "code",
   "execution_count": 5,
   "metadata": {},
   "outputs": [],
   "source": [
    "# function_2에서 x0 = 3, x1 = 7일 때,, x0에 대한 y의 편미분은?\n",
    "def f2_tmp0(x0):\n",
    "    \n",
    "    return x0*x0 + 7**2.0\n",
    "\n",
    "# function_2에서 x0 = 3, x1 = 7일 때,, x1에 대한 y의 편미분은?\n",
    "def f2_tmp1(x1):\n",
    "    \n",
    "    return 3.0**2.0 + x1*x1"
   ]
  },
  {
   "cell_type": "code",
   "execution_count": 6,
   "metadata": {},
   "outputs": [
    {
     "name": "stdout",
     "output_type": "stream",
     "text": [
      "function_1의 수치미분 결과 : 1.2999999999951939\n",
      "function_2에서 X0에 대한 편미분 결과 : 5.9999999999860165\n",
      "function_2에서 X1에 대한 편미분 결과 : 13.999999999967372\n"
     ]
    }
   ],
   "source": [
    "print(\"function_1의 수치미분 결과 :\", numerical_diff(function_1, 5))\n",
    "print(\"function_2에서 X0에 대한 편미분 결과 :\", numerical_diff(f2_tmp0, 3.0))\n",
    "print(\"function_2에서 X1에 대한 편미분 결과 :\", numerical_diff(f2_tmp1, 7.0))"
   ]
  }
 ],
 "metadata": {
  "kernelspec": {
   "display_name": "tf",
   "language": "python",
   "name": "tensorflow"
  },
  "language_info": {
   "codemirror_mode": {
    "name": "ipython",
    "version": 3
   },
   "file_extension": ".py",
   "mimetype": "text/x-python",
   "name": "python",
   "nbconvert_exporter": "python",
   "pygments_lexer": "ipython3",
   "version": "3.6.8"
  }
 },
 "nbformat": 4,
 "nbformat_minor": 2
}
