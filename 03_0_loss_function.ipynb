{
 "cells": [
  {
   "cell_type": "code",
   "execution_count": 1,
   "metadata": {},
   "outputs": [],
   "source": [
    "import numpy as np"
   ]
  },
  {
   "cell_type": "code",
   "execution_count": 2,
   "metadata": {},
   "outputs": [],
   "source": [
    "# 가장 많이 쓰이는 손실 함수는 평균 제곱 오차(Mean Square Error,MSE)이다.\n",
    "def mean_square_error(y, y_predict): # y는 실제값, y_predict는 예측값\n",
    "\n",
    "    return ((y - y_predict)** 2).mean()"
   ]
  },
  {
   "cell_type": "code",
   "execution_count": 3,
   "metadata": {},
   "outputs": [],
   "source": [
    "# 또 자주 쓰이는 손실 함수는 크로스 엔트로피 오차(Cross Entropy Error, CEE)이다.\n",
    "def cross_entropy_error(y, y_predict): # y는 실제값, y_predict는 예측값\n",
    "    delta = 1e-7 #0.0000001\n",
    "    # 아주 작은 값 delta를 예측값에 더해서 로그의 진수가 0이 되지 않도록 만든다.\n",
    "    return -np.sum( y * np.log(y_predict + delta))"
   ]
  },
  {
   "cell_type": "code",
   "execution_count": 4,
   "metadata": {},
   "outputs": [],
   "source": [
    "# 배치(batch)용 CEE\n",
    "def batch_cee(y, y_predict):\n",
    "    if y_predict.ndim == 1:\n",
    "        y = y.reshape(1, y.size) # reshape로 모양 바꿔줌\n",
    "        y_predict = y_predict.reshape(1, y_predict.size)\n",
    "\n",
    "    batch_size = y_predict.shape[0]\n",
    "\n",
    "    return -np.sum( y * np.log(y_predict)) / batch_size"
   ]
  },
  {
   "cell_type": "code",
   "execution_count": 5,
   "metadata": {},
   "outputs": [],
   "source": [
    "y = [0, 0, 1, 0, 0]\n",
    "y_predict_1 = [0.1, 0.05, 0.6, 0.05, 0.2]\n",
    "y_predict_2 = [0.1, 0.05, 0.2, 0.05, 0.6]"
   ]
  },
  {
   "cell_type": "code",
   "execution_count": 6,
   "metadata": {},
   "outputs": [
    {
     "name": "stdout",
     "output_type": "stream",
     "text": [
      "예측을 잘 하고 있는 경우의 오차\n",
      "MSE :  0.04300000000000001\n",
      "CEE :  0.510825457099338\n",
      "Batch_CEE :  0.5108256237659907\n",
      "\n",
      "예측을 잘 못 하고 있는 경우의 오차\n",
      "MSE :  0.203\n",
      "CEE :  1.6094374124342252\n",
      "Batch_CEE :  1.6094379124341003\n"
     ]
    }
   ],
   "source": [
    "print(\"예측을 잘 하고 있는 경우의 오차\")\n",
    "print(\"MSE : \", mean_square_error(np.array(y), np.array(y_predict_1)))\n",
    "print(\"CEE : \", cross_entropy_error(np.array(y), np.array(y_predict_1)))\n",
    "print(\"Batch_CEE : \", batch_cee(np.array(y), np.array(y_predict_1)))\n",
    "\n",
    "print(\"\\n예측을 잘 못 하고 있는 경우의 오차\")\n",
    "print(\"MSE : \", mean_square_error(np.array(y), np.array(y_predict_2)))\n",
    "print(\"CEE : \", cross_entropy_error(np.array(y), np.array(y_predict_2)))\n",
    "print(\"Batch_CEE : \", batch_cee(np.array(y), np.array(y_predict_2)))"
   ]
  },
  {
   "cell_type": "code",
   "execution_count": null,
   "metadata": {},
   "outputs": [],
   "source": []
  }
 ],
 "metadata": {
  "kernelspec": {
   "display_name": "tf",
   "language": "python",
   "name": "tensorflow"
  },
  "language_info": {
   "codemirror_mode": {
    "name": "ipython",
    "version": 3
   },
   "file_extension": ".py",
   "mimetype": "text/x-python",
   "name": "python",
   "nbconvert_exporter": "python",
   "pygments_lexer": "ipython3",
   "version": "3.6.8"
  }
 },
 "nbformat": 4,
 "nbformat_minor": 2
}
