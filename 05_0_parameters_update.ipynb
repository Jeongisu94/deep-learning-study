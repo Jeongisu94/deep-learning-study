{
 "cells": [
  {
   "cell_type": "code",
   "execution_count": 1,
   "metadata": {},
   "outputs": [],
   "source": [
    "import numpy as np"
   ]
  },
  {
   "cell_type": "code",
   "execution_count": 2,
   "metadata": {},
   "outputs": [],
   "source": [
    "# SGD, Stochastic Gradient Descent (확률적인 기울기 하강법)\n",
    "# 단순히 기울기가 제시한 방향으로 갱신한다.\n",
    "\n",
    "class SGD:\n",
    "    def __init__(self, learning_rate=0.01):\n",
    "        self.learning_rate = learning_rate\n",
    "        \n",
    "    def update(self, parameters, gradients): # parameters 와 gradients는 딕셔너리 변수\n",
    "        for key in parameters.key():\n",
    "            parameters[key] -= self.learning_rate * gradients[key]\n",
    "            "
   ]
  },
  {
   "cell_type": "code",
   "execution_count": 3,
   "metadata": {},
   "outputs": [],
   "source": [
    "# Momentum은 [운동량], [관성]을 뜻하는 물리 용어\n",
    "# 공이 바닥을 구르는 듯한 움직임을 보여준다.\n",
    "\n",
    "class Momentum:\n",
    "    def __init__(self, learning_rate=0.01, momentum=0.9):\n",
    "        self.learning_rate = learning_rate\n",
    "        self.momentum = momentum\n",
    "        self.v = None # v는 속도(velocity)\n",
    "        \n",
    "    def update(self, parameters, gradients): # parameters 와 gradients는 딕셔너리 변수\n",
    "        if self.v is None:\n",
    "            self.v = {}\n",
    "            for key, val in parameters.items():\n",
    "                self.v[key] = np.zeros_like(val)\n",
    "        \n",
    "        for key in parameters.key():\n",
    "            self.v[key] = (self.momentum * self.v[key]) - (self.learning_rate * gradients[key])\n",
    "            parameters[key] += self.v[key]\n",
    "            "
   ]
  },
  {
   "cell_type": "code",
   "execution_count": 4,
   "metadata": {},
   "outputs": [],
   "source": [
    "# AdaGrad, Adaptive Gradient Algorithm\n",
    "# 매개변수 각각에 적응형으로(맞춤형으로) 학습률을 조절하며 학습을 진행한다.\n",
    "\n",
    "class AdaGrad:\n",
    "    def __init__(self, learning_rate=0.01):\n",
    "        self.learning_rate = learning_rate\n",
    "        self.h = None\n",
    "        \n",
    "    def update(self, parameters, gradients): # parameters 와 gradients는 딕셔너리 변수\n",
    "        if self.h is None:\n",
    "            self.h = {}\n",
    "            for key, val in parameters.items():\n",
    "                self.h[key] = np.zeros_like(val)\n",
    "        \n",
    "        for key in parameters.key():\n",
    "            self.h[key] += gradients[key] * gradients[key]\n",
    "            parameters[key] -= (self.learning_rate * gradients[key]) / (np.sqrt(self.h[key])+ 1e-7) # 1e-7을 더해서 0으로 나누는 일이 없도록 해준다.\n",
    "            "
   ]
  },
  {
   "cell_type": "code",
   "execution_count": 5,
   "metadata": {},
   "outputs": [],
   "source": [
    "# Adam ,Adaptive Moment Estimation)\n",
    "# 모멘텀과 AdaGrad를 융합해보면 어떨까? 라는 아이디어에서 시작됨\n",
    "# 하이퍼파라미터의 편향보정이 진행된다는 점이 특징\n",
    "# 모멘텀과 비슷한 움직임을 보이지만, 공의 좌우 흔들림이 적다. 이는 각각의 매개변수에 갱신 정도를 적응형으로 조절했기 때문."
   ]
  }
 ],
 "metadata": {
  "kernelspec": {
   "display_name": "tf",
   "language": "python",
   "name": "tensorflow"
  },
  "language_info": {
   "codemirror_mode": {
    "name": "ipython",
    "version": 3
   },
   "file_extension": ".py",
   "mimetype": "text/x-python",
   "name": "python",
   "nbconvert_exporter": "python",
   "pygments_lexer": "ipython3",
   "version": "3.6.8"
  }
 },
 "nbformat": 4,
 "nbformat_minor": 2
}
