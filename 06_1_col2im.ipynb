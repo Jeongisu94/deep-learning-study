{
 "cells": [
  {
   "cell_type": "code",
   "execution_count": 1,
   "metadata": {},
   "outputs": [],
   "source": [
    "import numpy as np"
   ]
  },
  {
   "cell_type": "code",
   "execution_count": 2,
   "metadata": {},
   "outputs": [],
   "source": [
    "# 2차원 배열을 입력받아 다수의 이미지 묶음으로 변환한다.\n",
    "#  col : 2차원 배열(입력 데이터)\n",
    "# input_shape : 원래 이미지 데이터의 shape, (데이터 수, 채널 수, 높이, 너비) 의 4차원\n",
    "# filter_h : 필터의 높이\n",
    "# filter_w : 필터의 너비\n",
    "# stride : 스트라이드\n",
    "# pad : 패딩\n",
    "# img : 변환된 이미지 묶음\n",
    "\n",
    "def col2im(col, input_shape, filter_h, filter_w, stride=1, pad=0):\n",
    "    \n",
    "    N, C, H, W = input_shape\n",
    "    out_h = (H + 2*pad - filter_h)//stride + 1\n",
    "    out_w = (W + 2*pad - filter_w)//stride + 1\n",
    "    col = col.reshape(N, out_h, out_w, C, filter_h, filter_w).transpose(0, 3, 4, 5, 1, 2)\n",
    "\n",
    "    img = np.zeros((N, C, H + 2*pad + stride - 1, W + 2*pad + stride - 1))\n",
    "    for y in range(filter_h):\n",
    "        y_max = y + stride*out_h\n",
    "        for x in range(filter_w):\n",
    "            x_max = x + stride*out_w\n",
    "            img[:, :, y:y_max:stride, x:x_max:stride] += col[:, :, y, x, :, :]\n",
    "\n",
    "    return img[:, :, pad:H + pad, pad:W + pad]\n"
   ]
  },
  {
   "cell_type": "code",
   "execution_count": 4,
   "metadata": {},
   "outputs": [
    {
     "name": "stdout",
     "output_type": "stream",
     "text": [
      "(9, 27)인 행렬을 다시 이미지로 >> (1, 3, 5, 5)\n",
      "(90, 27)인 행렬을 다시 이미지로 >> (10, 3, 5, 5)\n"
     ]
    }
   ],
   "source": [
    "col1 = np.random.rand(9, 27)\n",
    "img1 = col2im(col1, (1, 3, 5, 5), 3, 3, stride=1, pad=0)\n",
    "print(\"(9, 27)인 행렬을 다시 이미지로 >>\", img1.shape)\n",
    "\n",
    "col2 = np.random.rand(90, 27)\n",
    "img2 = col2im(col2, (10, 3, 5, 5), 3, 3, stride= 1, pad=0)\n",
    "print(\"(90, 27)인 행렬을 다시 이미지로 >>\", img2.shape)"
   ]
  }
 ],
 "metadata": {
  "kernelspec": {
   "display_name": "tf",
   "language": "python",
   "name": "tensorflow"
  },
  "language_info": {
   "codemirror_mode": {
    "name": "ipython",
    "version": 3
   },
   "file_extension": ".py",
   "mimetype": "text/x-python",
   "name": "python",
   "nbconvert_exporter": "python",
   "pygments_lexer": "ipython3",
   "version": "3.6.8"
  }
 },
 "nbformat": 4,
 "nbformat_minor": 2
}
