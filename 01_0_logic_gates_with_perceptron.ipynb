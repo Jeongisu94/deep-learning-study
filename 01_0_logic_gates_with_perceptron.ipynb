{
 "cells": [
  {
   "cell_type": "code",
   "execution_count": 1,
   "metadata": {},
   "outputs": [],
   "source": [
    "import numpy as np"
   ]
  },
  {
   "cell_type": "code",
   "execution_count": 2,
   "metadata": {},
   "outputs": [],
   "source": [
    "# 단층 Perceptron으로 AND 게이트 표현\n",
    "\n",
    "def AND(x1, x2):\n",
    "    x = np.array([x1, x2])\n",
    "    W = np.array([0.5, 0.5])\n",
    "    b = -0.7\n",
    "    tmp = np.sum(W*x) + b\n",
    "    \n",
    "    if tmp > 0:\n",
    "        return 1\n",
    "    else:\n",
    "        return 0"
   ]
  },
  {
   "cell_type": "code",
   "execution_count": 3,
   "metadata": {},
   "outputs": [],
   "source": [
    "# 단층 Perceptron으로 NAND 게이트 표현\n",
    "# AND 게이트 코드에서 매개변수의 부호만 반전하면 된다.\n",
    "\n",
    "def NAND(x1, x2):\n",
    "    x = np.array([x1, x2])\n",
    "    W = np.array([-0.5, -0.5]) # 부호 반전\n",
    "    b = 0.7 # 부호 반전\n",
    "    tmp = np.sum(W*x) + b\n",
    "    \n",
    "    if tmp > 0:\n",
    "        return 1\n",
    "    else:\n",
    "        return 0"
   ]
  },
  {
   "cell_type": "code",
   "execution_count": 4,
   "metadata": {},
   "outputs": [],
   "source": [
    "# 단층 Perceptron으로 OR 게이트 표현\n",
    "\n",
    "def OR(x1, x2):\n",
    "    x = np.array([x1, x2])\n",
    "    W = np.array([0.5, 0.5])\n",
    "    b = -0.1\n",
    "    tmp = np.sum(W*x) + b\n",
    "    \n",
    "    if tmp > 0:\n",
    "        return 1\n",
    "    else:\n",
    "        return 0"
   ]
  },
  {
   "cell_type": "code",
   "execution_count": 5,
   "metadata": {},
   "outputs": [],
   "source": [
    "# 단층 Perceptron으로 XOR 게이트 표현 불가\n",
    "# 다층 Perceptrron으로 표현해야함\n",
    "# AND, NAND, OR 사용하면 구현할 수 있음\n",
    "\n",
    "def XOR(x1, x2):\n",
    "    s1 = NAND(x1, x2)\n",
    "    s2 = OR(x1, x2)\n",
    "    y = AND(s1, s2)\n",
    "    \n",
    "    return y"
   ]
  },
  {
   "cell_type": "code",
   "execution_count": 6,
   "metadata": {},
   "outputs": [
    {
     "name": "stdout",
     "output_type": "stream",
     "text": [
      "AND[0, 0] : 0\n",
      "AND[0, 1] : 0\n",
      "AND[1, 0] : 0\n",
      "AND[1, 1] : 1\n",
      "\n",
      "\n",
      "NAND[0, 0] : 1\n",
      "NAND[0, 1] : 1\n",
      "NAND[1, 0] : 1\n",
      "NAND[1, 1] : 0\n",
      "\n",
      "\n",
      "OR[0, 0] : 0\n",
      "OR[0, 1] : 1\n",
      "OR[1, 0] : 1\n",
      "OR[1, 1] : 1\n",
      "\n",
      "\n",
      "XOR[0, 0] : 0\n",
      "XOR[0, 1] : 1\n",
      "XOR[1, 0] : 1\n",
      "XOR[1, 1] : 0\n"
     ]
    }
   ],
   "source": [
    "for x in [[0,0],[0,1],[1,0],[1,1]]:\n",
    "    print(\"AND\" + str(x) + \" : \" + str(AND(x[0],x[1])))\n",
    "    \n",
    "print(\"\\n\")    \n",
    "for x in [[0,0],[0,1],[1,0],[1,1]]:\n",
    "    print(\"NAND\" + str(x) + \" : \" + str(NAND(x[0],x[1])))\n",
    "    \n",
    "print(\"\\n\")    \n",
    "for x in [[0,0],[0,1],[1,0],[1,1]]:\n",
    "    print(\"OR\" + str(x) + \" : \" + str(OR(x[0],x[1])))\n",
    "    \n",
    "print(\"\\n\")    \n",
    "for x in [[0,0],[0,1],[1,0],[1,1]]:\n",
    "    print(\"XOR\" + str(x) + \" : \" + str(XOR(x[0],x[1])))"
   ]
  }
 ],
 "metadata": {
  "kernelspec": {
   "display_name": "tf",
   "language": "python",
   "name": "tensorflow"
  },
  "language_info": {
   "codemirror_mode": {
    "name": "ipython",
    "version": 3
   },
   "file_extension": ".py",
   "mimetype": "text/x-python",
   "name": "python",
   "nbconvert_exporter": "python",
   "pygments_lexer": "ipython3",
   "version": "3.6.8"
  }
 },
 "nbformat": 4,
 "nbformat_minor": 2
}
