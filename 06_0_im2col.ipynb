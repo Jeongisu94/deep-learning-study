{
 "cells": [
  {
   "cell_type": "code",
   "execution_count": 1,
   "metadata": {},
   "outputs": [],
   "source": [
    "import numpy as np"
   ]
  },
  {
   "cell_type": "code",
   "execution_count": 2,
   "metadata": {},
   "outputs": [],
   "source": [
    "# image to column : 이미지를 입력받으면 2차원 배열로 전개한다.  \n",
    "\n",
    "# input_data : 4차원 shape의 입력 데이터(이미지 수, 채널 수, 높이, 너비)\n",
    "# filter_h : 필터의 높이\n",
    "# filter_w : 필터의 너비\n",
    "# stride : 스트라이드\n",
    "# pad : 패딩\n",
    "# out_h : 출력 데이터의 높이\n",
    "# out_w : 출력 데이너의 너비\n",
    "\n",
    "def im2col(input_data, filter_h, filter_w, stride=1, pad=0):\n",
    "    \n",
    "    N, C, H, W = input_data.shape\n",
    "    out_h = (H + 2*pad - filter_h) // stride + 1\n",
    "    out_w = (W + 2*pad - filter_w) // stride + 1\n",
    "\n",
    "    img = np.pad(input_data, [(0,0), (0,0), (pad, pad), (pad, pad)], 'constant')\n",
    "    col = np.zeros((N, C, filter_h, filter_w, out_h, out_w))\n",
    "\n",
    "    for y in range(filter_h):\n",
    "        y_max = y + stride * out_h\n",
    "        for x in range(filter_w):\n",
    "            x_max = x + stride * out_w\n",
    "            col[:, :, y, x, :, :] = img[:, :, y:y_max:stride, x:x_max:stride]\n",
    "\n",
    "    col = col.transpose(0, 4, 5, 1, 2, 3).reshape(N * out_h * out_w, -1)\n",
    "    \n",
    "    # col은 2차원 배열\n",
    "    return col"
   ]
  },
  {
   "cell_type": "code",
   "execution_count": 3,
   "metadata": {},
   "outputs": [
    {
     "name": "stdout",
     "output_type": "stream",
     "text": [
      "(배치의 크기, 채널 수, 높이, 너비) = (1, 5, 3, 3)인 데이터를 전개하면 (9, 27)\n",
      "(배치의 크기, 채널 수, 높이, 너비) = (10, 5, 3, 3)인 데이터를 전개하면 (90, 27)\n"
     ]
    }
   ],
   "source": [
    "x1 = np.random.rand(1,3,5,5)\n",
    "col1 = im2col(x1, 3, 3, stride=1, pad=0)\n",
    "print(\"(배치의 크기, 채널 수, 높이, 너비) = (1, 5, 3, 3)인 데이터를 전개하면\", col1.shape)\n",
    "\n",
    "x2 = np.random.rand(10,3,5,5)\n",
    "col2 = im2col(x2, 3, 3, stride= 1, pad=0)\n",
    "print(\"(배치의 크기, 채널 수, 높이, 너비) = (10, 5, 3, 3)인 데이터를 전개하면\", col2.shape)"
   ]
  }
 ],
 "metadata": {
  "kernelspec": {
   "display_name": "tf",
   "language": "python",
   "name": "tensorflow"
  },
  "language_info": {
   "codemirror_mode": {
    "name": "ipython",
    "version": 3
   },
   "file_extension": ".py",
   "mimetype": "text/x-python",
   "name": "python",
   "nbconvert_exporter": "python",
   "pygments_lexer": "ipython3",
   "version": "3.6.8"
  }
 },
 "nbformat": 4,
 "nbformat_minor": 2
}
