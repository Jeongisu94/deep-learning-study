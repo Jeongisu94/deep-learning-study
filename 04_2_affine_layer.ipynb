{
 "cells": [
  {
   "cell_type": "code",
   "execution_count": 1,
   "metadata": {},
   "outputs": [],
   "source": [
    "import numpy as np\n",
    "\n",
    "# 행렬의 내적을 기하학에서는 어파인(affine) 변환이라고 한다.\n",
    "# 노드와 노드사이에 스칼라가 아닌 행렬이 흐르기 때문에 shape를 맞춰주어야 한다."
   ]
  },
  {
   "cell_type": "code",
   "execution_count": 2,
   "metadata": {},
   "outputs": [],
   "source": [
    "class Affine:\n",
    "    def __init__(self, W, b):\n",
    "        self.W = W\n",
    "        self.b = b\n",
    "        self.x = None\n",
    "        self.dW = None\n",
    "        self.db = None\n",
    "        \n",
    "    def forward(self, x):\n",
    "        self.x = x\n",
    "        out = np.dot(x, self.W) + self.b\n",
    "        \n",
    "        return out\n",
    "    \n",
    "    def backward(self, dout):\n",
    "        dx = np.dot(dout, self.W.T)\n",
    "        self.dW = np.dot(self.x.T, dout)\n",
    "        self.db = np.sum(dout, axis=0)\n",
    "        \n",
    "        return dx"
   ]
  },
  {
   "cell_type": "code",
   "execution_count": 3,
   "metadata": {},
   "outputs": [
    {
     "name": "stdout",
     "output_type": "stream",
     "text": [
      "x :\n",
      " [[1]\n",
      " [2]] \n",
      "\n",
      "W :\n",
      " [[3 4]] \n",
      "\n",
      "b :\n",
      " [[10 20]\n",
      " [30 40]] \n",
      "\n",
      "x의 shape : (2, 1) \n",
      "W의 shape : (1, 2) \n",
      "b의 shape : (2, 2) \n",
      "\n",
      "xW + b는? \n",
      " [[13 24]\n",
      " [36 48]] \n",
      "\n",
      "x에 대한 L의 미분은? :\n",
      " [[7]\n",
      " [7]]\n"
     ]
    }
   ],
   "source": [
    "x = np.array([[1], [2]]) \n",
    "W = np.array([[3,  4]])\n",
    "b = np.array([[10, 20], [30, 40]])\n",
    "\n",
    "print(\"x :\\n\",x,\"\\n\\nW :\\n\", W,\"\\n\\nb :\\n\", b,\"\\n\")\n",
    "\n",
    "\n",
    "print(\"x의 shape :\",x.shape,\"\\nW의 shape :\", W.shape,\"\\nb의 shape :\", b.shape,\"\\n\")\n",
    "\n",
    "\n",
    "mat = Affine(W,b)\n",
    "\n",
    "print(\"xW + b는? \\n\",mat.forward(x),\"\\n\")\n",
    "\n",
    "dout = np.array([[1, 1], [1, 1]])\n",
    "\n",
    "print(\"x에 대한 L의 미분은? :\\n\",mat.backward(dout))"
   ]
  }
 ],
 "metadata": {
  "kernelspec": {
   "display_name": "tf",
   "language": "python",
   "name": "tensorflow"
  },
  "language_info": {
   "codemirror_mode": {
    "name": "ipython",
    "version": 3
   },
   "file_extension": ".py",
   "mimetype": "text/x-python",
   "name": "python",
   "nbconvert_exporter": "python",
   "pygments_lexer": "ipython3",
   "version": "3.6.8"
  }
 },
 "nbformat": 4,
 "nbformat_minor": 2
}
