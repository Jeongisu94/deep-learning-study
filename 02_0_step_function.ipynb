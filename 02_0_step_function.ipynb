{
 "cells": [
  {
   "cell_type": "code",
   "execution_count": 1,
   "metadata": {},
   "outputs": [],
   "source": [
    "import numpy as np\n",
    "import matplotlib.pylab as plt"
   ]
  },
  {
   "cell_type": "code",
   "execution_count": 2,
   "metadata": {},
   "outputs": [],
   "source": [
    "# 이 구현은 쉽지만 인수x가 실수만 받을 수 있다는 단점이 있음.\n",
    "\n",
    "def step_function(x):\n",
    "    \n",
    "    if x > 0:\n",
    "        return 1\n",
    "    else:\n",
    "        return 0"
   ]
  },
  {
   "cell_type": "code",
   "execution_count": 3,
   "metadata": {},
   "outputs": [],
   "source": [
    "# 인수로 넘파이 배열을 받을 수 있도록 수정\n",
    "\n",
    "def step_function_np(x):\n",
    "    \n",
    "    #  y에 x 가 0을 초과하는지에 대한 부등호 연산을 수행하여 대입.\n",
    "    # x가 배열이면 y는 boolean배열, x가 실수면 y는 boolean 값\n",
    "    \n",
    "    y = (x > 0)\n",
    "    \n",
    "    # 넘파이의 자료형 변환 메소드 astype()사용해서 int값으로 출력하도록 함\n",
    "    return y.astype(np.int)"
   ]
  },
  {
   "cell_type": "code",
   "execution_count": 4,
   "metadata": {},
   "outputs": [],
   "source": [
    "# -5.0부터 5.0 전까지 0.1간격의 넘파이 배열 x 생성\n",
    "# 즉, [-5.0, -4.9, ....... , 4.8, 4.9]\n",
    "x = np.arange(-5.0, 5.0, 0.1)\n",
    "y = step_function_np(x)\n",
    "# x가 배열이므로 step_function_np()의 결과도 배열"
   ]
  },
  {
   "cell_type": "code",
   "execution_count": 5,
   "metadata": {},
   "outputs": [
    {
     "data": {
      "image/png": "[encoded data removed]",
      "text/plain": [
       "<Figure size 432x288 with 1 Axes>"
      ]
     },
     "metadata": {
      "needs_background": "light"
     },
     "output_type": "display_data"
    }
   ],
   "source": [
    "plt.plot(x, y)\n",
    "plt.xlabel(\"x\") # x축 이름\n",
    "plt.ylabel(\"y\") # y축 이름\n",
    "plt.ylim(-0.1, 1.1) # y축 범위 지정\n",
    "plt.title(\"<< step function >>\")\n",
    "plt.show()"
   ]
  }
 ],
 "metadata": {
  "kernelspec": {
   "display_name": "tf",
   "language": "python",
   "name": "tensorflow"
  },
  "language_info": {
   "codemirror_mode": {
    "name": "ipython",
    "version": 3
   },
   "file_extension": ".py",
   "mimetype": "text/x-python",
   "name": "python",
   "nbconvert_exporter": "python",
   "pygments_lexer": "ipython3",
   "version": "3.6.8"
  }
 },
 "nbformat": 4,
 "nbformat_minor": 2
}
